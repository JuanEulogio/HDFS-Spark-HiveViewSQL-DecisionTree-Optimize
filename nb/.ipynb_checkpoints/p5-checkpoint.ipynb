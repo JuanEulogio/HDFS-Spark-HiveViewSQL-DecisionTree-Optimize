{
 "cells": [
  {
   "cell_type": "code",
   "execution_count": 1,
   "id": "b9e85ba8-13fd-40e6-9516-dd1c624b0d46",
   "metadata": {},
   "outputs": [],
   "source": [
    "#Juan Eulogio\n",
    "!hdfs dfs -D dfs.replication=1 -cp -f data/*.csv hdfs://nn:9000/"
   ]
  },
  {
   "cell_type": "code",
   "execution_count": 2,
   "id": "92157d69-a120-4d3c-ab2d-fd483a160633",
   "metadata": {},
   "outputs": [
    {
     "name": "stderr",
     "output_type": "stream",
     "text": [
      "Setting default log level to \"WARN\".\n",
      "To adjust logging level use sc.setLogLevel(newLevel). For SparkR, use setLogLevel(newLevel).\n",
      "24/11/08 21:26:00 WARN NativeCodeLoader: Unable to load native-hadoop library for your platform... using builtin-java classes where applicable\n"
     ]
    }
   ],
   "source": [
    "from pyspark.sql import SparkSession\n",
    "spark = (SparkSession.builder.appName(\"cs544\")\n",
    "         .master(\"spark://boss:7077\")\n",
    "         .config(\"spark.executor.memory\", \"512M\")\n",
    "         .config(\"spark.sql.warehouse.dir\", \"hdfs://nn:9000/user/hive/warehouse\")\n",
    "         .enableHiveSupport()\n",
    "         .getOrCreate())\n"
   ]
  },
  {
   "cell_type": "code",
   "execution_count": 3,
   "id": "fb3b4fbd-3837-4f9a-bbd0-02a0c8ed68c5",
   "metadata": {},
   "outputs": [
    {
     "name": "stderr",
     "output_type": "stream",
     "text": [
      "                                                                                \r"
     ]
    },
    {
     "data": {
      "text/plain": [
       "298"
      ]
     },
     "execution_count": 3,
     "metadata": {},
     "output_type": "execute_result"
    }
   ],
   "source": [
    "#q1\n",
    "from pyspark.sql.functions import col\n",
    "banks_df = spark.read.csv(\"hdfs://nn:9000/arid2017_to_lei_xref_csv.csv\",\n",
    "                          header=True,\n",
    "                          inferSchema=True )\n",
    "\n",
    "bankCount= banks_df.filter(col(\"respondent_name\").startswith(\"The\")).count()\n",
    "\n",
    "bankCount\n"
   ]
  },
  {
   "cell_type": "code",
   "execution_count": 4,
   "id": "70e2c39c-301f-414e-9ea3-083df9fbf5bf",
   "metadata": {},
   "outputs": [
    {
     "data": {
      "text/plain": [
       "298"
      ]
     },
     "execution_count": 4,
     "metadata": {},
     "output_type": "execute_result"
    }
   ],
   "source": [
    "#q2\n",
    "banks_df = spark.read.csv(\"hdfs://nn:9000/arid2017_to_lei_xref_csv.csv\",\n",
    "                          header=True,\n",
    "                          inferSchema=True )\n",
    "\n",
    "bankCount = banks_df.filter(\"respondent_name LIKE 'The%'\").count()\n",
    "\n",
    "bankCount\n"
   ]
  },
  {
   "cell_type": "code",
   "execution_count": 5,
   "id": "75051b56-ea9c-4d64-a595-a6a56e194fa6",
   "metadata": {},
   "outputs": [
    {
     "name": "stderr",
     "output_type": "stream",
     "text": [
      "24/11/08 21:26:46 WARN HiveConf: HiveConf of name hive.stats.jdbc.timeout does not exist\n",
      "24/11/08 21:26:46 WARN HiveConf: HiveConf of name hive.stats.retries.wait does not exist\n",
      "24/11/08 21:26:50 WARN ObjectStore: Version information not found in metastore. hive.metastore.schema.verification is not enabled so recording the schema version 2.3.0\n",
      "24/11/08 21:26:50 WARN ObjectStore: setMetaStoreSchemaVersion called but recording version is disabled: version = 2.3.0, comment = Set by MetaStore UNKNOWN@172.19.0.3\n",
      "24/11/08 21:26:52 WARN ObjectStore: Failed to get database global_temp, returning NoSuchObjectException\n",
      "24/11/08 21:26:56 WARN SessionState: METASTORE_FILTER_HOOK will be ignored, since hive.security.authorization.manager is set to instance of HiveAuthorizerFactory.\n",
      "24/11/08 21:26:56 WARN HiveConf: HiveConf of name hive.internal.ss.authz.settings.applied.marker does not exist\n",
      "24/11/08 21:26:56 WARN HiveConf: HiveConf of name hive.stats.jdbc.timeout does not exist\n",
      "24/11/08 21:26:56 WARN HiveConf: HiveConf of name hive.stats.retries.wait does not exist\n",
      "                                                                                \r"
     ]
    },
    {
     "data": {
      "text/plain": [
       "298"
      ]
     },
     "execution_count": 5,
     "metadata": {},
     "output_type": "execute_result"
    }
   ],
   "source": [
    "#q3\n",
    "banks_df = spark.read.csv(\"hdfs://nn:9000/arid2017_to_lei_xref_csv.csv\",\n",
    "                          header=True,\n",
    "                          inferSchema=True )\n",
    "\n",
    "banks_df.write.saveAsTable(\"banks\", mode=\"overwrite\")\n",
    "\n",
    "result_df = spark.sql(\"SELECT COUNT(*) AS count FROM banks WHERE respondent_name LIKE 'The%'\")\n",
    "\n",
    "# Extract the count as a single integer\n",
    "bankCount = result_df.collect()[0][\"count\"]\n",
    "\n",
    "\n",
    "bankCount"
   ]
  },
  {
   "cell_type": "code",
   "execution_count": 6,
   "id": "fefdf2df-cb52-4758-8079-c07e744acfe4",
   "metadata": {},
   "outputs": [
    {
     "name": "stderr",
     "output_type": "stream",
     "text": [
      "24/11/08 21:27:09 WARN SparkStringUtils: Truncated the string representation of a plan since it was too large. This behavior can be adjusted by setting 'spark.sql.debug.maxToStringFields'.\n",
      "                                                                                \r"
     ]
    },
    {
     "data": {
      "text/plain": [
       "{'banks': False,\n",
       " 'loans': False,\n",
       " 'action_taken': True,\n",
       " 'counties': True,\n",
       " 'denial_reason': True,\n",
       " 'ethnicity': True,\n",
       " 'loan_purpose': True,\n",
       " 'loan_type': True,\n",
       " 'preapproval': True,\n",
       " 'property_type': True,\n",
       " 'race': True,\n",
       " 'sex': True,\n",
       " 'states': True,\n",
       " 'tracts': True}"
      ]
     },
     "execution_count": 6,
     "metadata": {},
     "output_type": "execute_result"
    }
   ],
   "source": [
    "#q4\n",
    "loans_df = spark.read.csv(\"hdfs://nn:9000/hdma-wi-2021.csv\",\n",
    "                          header=True,\n",
    "                          inferSchema=True )\n",
    "\n",
    "loans_df.write.bucketBy(8, \"county_code\").saveAsTable(\"loans\", mode=\"overwrite\")\n",
    "\n",
    "view_names = [\n",
    "    \"ethnicity\", \"race\", \"sex\", \"states\", \"counties\", \"tracts\", \"action_taken\",\n",
    "    \"denial_reason\", \"loan_type\", \"loan_purpose\", \"preapproval\", \"property_type\"\n",
    "]\n",
    "\n",
    "# load the CSV and make temporary view for each view name\n",
    "for name in view_names:\n",
    "    df = spark.read.csv(f\"hdfs://nn:9000/{name}.csv\", header=True, inferSchema=True)\n",
    "    df.createOrReplaceTempView(name)\n",
    "\n",
    "\n",
    "data= spark.sql(\"SHOW TABLES\").collect()\n",
    "ansDict = {row[\"tableName\"]: row[\"isTemporary\"] for row in data }\n",
    "\n",
    "ansDict\n"
   ]
  },
  {
   "cell_type": "code",
   "execution_count": 7,
   "id": "72acf06f-9361-458a-818f-0e1c33935925",
   "metadata": {},
   "outputs": [
    {
     "name": "stderr",
     "output_type": "stream",
     "text": [
      "                                                                                \r"
     ]
    },
    {
     "data": {
      "text/plain": [
       "19739"
      ]
     },
     "execution_count": 7,
     "metadata": {},
     "output_type": "execute_result"
    }
   ],
   "source": [
    "#q5\n",
    "result_df = spark.sql(\"\"\"\n",
    "    SELECT COUNT(*) AS applicationCount\n",
    "    FROM banks\n",
    "    INNER JOIN loans ON banks.lei_2020 = loans.lei\n",
    "    WHERE banks.respondent_name = 'University of Wisconsin Credit Union'\n",
    "\"\"\")\n",
    "#Note\n",
    "# select is what we will output\n",
    "# structure of inner join, getting other table, compare it to what we have(bank) and that retrieved tables specific value\n",
    "# use table we have for WHERE operation\n",
    "\n",
    "\n",
    "bankCount = result_df.collect()[0][\"applicationCount\"]\n",
    "\n",
    "\n",
    "\n",
    "bankCount"
   ]
  },
  {
   "cell_type": "code",
   "execution_count": 8,
   "id": "92b307f4-ba7d-49e8-bfaa-12ed6297ed8d",
   "metadata": {},
   "outputs": [
    {
     "name": "stdout",
     "output_type": "stream",
     "text": [
      "== Physical Plan ==\n",
      "AdaptiveSparkPlan (12)\n",
      "+- HashAggregate (11)\n",
      "   +- Exchange (10)\n",
      "      +- HashAggregate (9)\n",
      "         +- Project (8)\n",
      "            +- BroadcastHashJoin Inner BuildLeft (7)\n",
      "               :- BroadcastExchange (4)\n",
      "               :  +- Project (3)\n",
      "               :     +- Filter (2)\n",
      "               :        +- Scan parquet spark_catalog.default.banks (1)\n",
      "               +- Filter (6)\n",
      "                  +- Scan parquet spark_catalog.default.loans (5)\n",
      "\n",
      "\n",
      "(1) Scan parquet spark_catalog.default.banks\n",
      "Output [2]: [respondent_name#127, lei_2020#131]\n",
      "Batched: true\n",
      "Location: InMemoryFileIndex [hdfs://nn:9000/user/hive/warehouse/banks]\n",
      "PushedFilters: [IsNotNull(respondent_name), EqualTo(respondent_name,University of Wisconsin Credit Union), IsNotNull(lei_2020)]\n",
      "ReadSchema: struct<respondent_name:string,lei_2020:string>\n",
      "\n",
      "(2) Filter\n",
      "Input [2]: [respondent_name#127, lei_2020#131]\n",
      "Condition : ((isnotnull(respondent_name#127) AND (respondent_name#127 = University of Wisconsin Credit Union)) AND isnotnull(lei_2020#131))\n",
      "\n",
      "(3) Project\n",
      "Output [1]: [lei_2020#131]\n",
      "Input [2]: [respondent_name#127, lei_2020#131]\n",
      "\n",
      "(4) BroadcastExchange\n",
      "Input [1]: [lei_2020#131]\n",
      "Arguments: HashedRelationBroadcastMode(List(input[0, string, true]),false), [plan_id=702]\n",
      "\n",
      "(5) Scan parquet spark_catalog.default.loans\n",
      "Output [1]: [lei#1050]\n",
      "Batched: true\n",
      "Bucketed: false (bucket column(s) not read)\n",
      "Location: InMemoryFileIndex [hdfs://nn:9000/user/hive/warehouse/loans]\n",
      "PushedFilters: [IsNotNull(lei)]\n",
      "ReadSchema: struct<lei:string>\n",
      "\n",
      "(6) Filter\n",
      "Input [1]: [lei#1050]\n",
      "Condition : isnotnull(lei#1050)\n",
      "\n",
      "(7) BroadcastHashJoin\n",
      "Left keys [1]: [lei_2020#131]\n",
      "Right keys [1]: [lei#1050]\n",
      "Join type: Inner\n",
      "Join condition: None\n",
      "\n",
      "(8) Project\n",
      "Output: []\n",
      "Input [2]: [lei_2020#131, lei#1050]\n",
      "\n",
      "(9) HashAggregate\n",
      "Input: []\n",
      "Keys: []\n",
      "Functions [1]: [partial_count(1)]\n",
      "Aggregate Attributes [1]: [count#1155L]\n",
      "Results [1]: [count#1156L]\n",
      "\n",
      "(10) Exchange\n",
      "Input [1]: [count#1156L]\n",
      "Arguments: SinglePartition, ENSURE_REQUIREMENTS, [plan_id=707]\n",
      "\n",
      "(11) HashAggregate\n",
      "Input [1]: [count#1156L]\n",
      "Keys: []\n",
      "Functions [1]: [count(1)]\n",
      "Aggregate Attributes [1]: [count(1)#1153L]\n",
      "Results [1]: [count(1)#1153L AS applicationCount#1152L]\n",
      "\n",
      "(12) AdaptiveSparkPlan\n",
      "Output [1]: [applicationCount#1152L]\n",
      "Arguments: isFinalPlan=false\n",
      "\n",
      "\n"
     ]
    }
   ],
   "source": [
    "#q6\n",
    "\n",
    "result_df = spark.sql(\"\"\"\n",
    "    SELECT COUNT(*) AS applicationCount\n",
    "    FROM banks\n",
    "    INNER JOIN loans ON banks.lei_2020 = loans.lei\n",
    "    WHERE banks.respondent_name = 'University of Wisconsin Credit Union'\n",
    "\"\"\")\n",
    "\n",
    "result_df.explain(\"formatted\")\n",
    "\n",
    "#Which table is sent to every executor via a BroadcastExchange operation?\n",
    "# it looks like banks, specifically its lei_2020 column where its named as lei_2020#131\n",
    "# \n",
    "# Does the plan involve HashAggregates (depending on how you write the query, it may or may not)?  If so, which ones?\n",
    "# Yes, there seems to be 2 stages of it. 2nd one seems to have an input result of our last HashAggregates Count. "
   ]
  },
  {
   "cell_type": "code",
   "execution_count": 9,
   "id": "6b27ba55-1c6d-4897-8db8-3cfc2d87c385",
   "metadata": {},
   "outputs": [
    {
     "name": "stderr",
     "output_type": "stream",
     "text": [
      "                                                                                \r"
     ]
    },
    {
     "data": {
      "text/plain": [
       "{'Milwaukee': 3.1173465727097907,\n",
       " 'Waukesha': 2.8758225602027756,\n",
       " 'Washington': 2.851009389671362,\n",
       " 'Dane': 2.890674955595027,\n",
       " 'Brown': 3.010949119373777,\n",
       " 'Racine': 3.099783715012723,\n",
       " 'Outagamie': 2.979661835748792,\n",
       " 'Winnebago': 3.0284761904761908,\n",
       " 'Ozaukee': 2.8673765432098772,\n",
       " 'Sheboygan': 2.995511111111111}"
      ]
     },
     "execution_count": 9,
     "metadata": {},
     "output_type": "execute_result"
    }
   ],
   "source": [
    "#q7\n",
    "result_df = spark.sql(\"\"\"\n",
    "    SELECT counties.NAME AS county_name, AVG(loans.interest_rate) AS avg_interest_rate\n",
    "    FROM loans\n",
    "    INNER JOIN banks ON loans.lei = banks.lei_2020\n",
    "    INNER JOIN counties ON loans.county_code = counties.STATE * 1000 + counties.COUNTY\n",
    "    WHERE banks.respondent_name = 'Wells Fargo Bank, National Association'\n",
    "    GROUP BY counties.NAME\n",
    "    ORDER BY COUNT(loans.county_code) DESC\n",
    "    LIMIT 10\n",
    "\"\"\")\n",
    "\n",
    "data = result_df.collect()\n",
    "ansDict = {row[\"county_name\"]: row[\"avg_interest_rate\"] for row in data }\n",
    "\n",
    "ansDict"
   ]
  },
  {
   "cell_type": "code",
   "execution_count": 10,
   "id": "2a15a97d-3bae-4e1e-b496-7155732793fd",
   "metadata": {},
   "outputs": [
    {
     "name": "stdout",
     "output_type": "stream",
     "text": [
      "Requirement already satisfied: matplotlib in /usr/local/lib/python3.10/dist-packages (3.8.0)\n",
      "Requirement already satisfied: pyparsing>=2.3.1 in /usr/local/lib/python3.10/dist-packages (from matplotlib) (3.2.0)\n",
      "Requirement already satisfied: python-dateutil>=2.7 in /usr/local/lib/python3.10/dist-packages (from matplotlib) (2.9.0.post0)\n",
      "Requirement already satisfied: contourpy>=1.0.1 in /usr/local/lib/python3.10/dist-packages (from matplotlib) (1.3.0)\n",
      "Requirement already satisfied: packaging>=20.0 in /usr/local/lib/python3.10/dist-packages (from matplotlib) (24.1)\n",
      "Requirement already satisfied: pillow>=6.2.0 in /usr/local/lib/python3.10/dist-packages (from matplotlib) (11.0.0)\n",
      "Requirement already satisfied: numpy<2,>=1.21 in /usr/local/lib/python3.10/dist-packages (from matplotlib) (1.26.4)\n",
      "Requirement already satisfied: kiwisolver>=1.0.1 in /usr/local/lib/python3.10/dist-packages (from matplotlib) (1.4.7)\n",
      "Requirement already satisfied: cycler>=0.10 in /usr/local/lib/python3.10/dist-packages (from matplotlib) (0.12.1)\n",
      "Requirement already satisfied: fonttools>=4.22.0 in /usr/local/lib/python3.10/dist-packages (from matplotlib) (4.54.1)\n",
      "Requirement already satisfied: six>=1.5 in /usr/local/lib/python3.10/dist-packages (from python-dateutil>=2.7->matplotlib) (1.16.0)\n",
      "\u001b[33mWARNING: Running pip as the 'root' user can result in broken permissions and conflicting behaviour with the system package manager. It is recommended to use a virtual environment instead: https://pip.pypa.io/warnings/venv\u001b[0m\u001b[33m\n",
      "\u001b[0m"
     ]
    },
    {
     "data": {
      "text/plain": [
       "Text(0, 0.5, 'average interest rate')"
      ]
     },
     "execution_count": 10,
     "metadata": {},
     "output_type": "execute_result"
    },
    {
     "data": {
      "image/png": "[encoded data removed]",
      "text/plain": [
       "<Figure size 640x480 with 1 Axes>"
      ]
     },
     "metadata": {},
     "output_type": "display_data"
    }
   ],
   "source": [
    "! pip3 install matplotlib\n",
    "\n",
    "pandas_df= result_df.toPandas()\n",
    "ax = (pandas_df.set_index(\"county_name\")[\"avg_interest_rate\"]).plot.bar()\n",
    "ax.set_ylabel(\"average interest rate\")"
   ]
  },
  {
   "cell_type": "code",
   "execution_count": 11,
   "id": "ebd7e885-696e-4de1-a760-0ee769e43950",
   "metadata": {},
   "outputs": [
    {
     "name": "stdout",
     "output_type": "stream",
     "text": [
      "== Physical Plan ==\n",
      "AdaptiveSparkPlan isFinalPlan=false\n",
      "+- HashAggregate(keys=[county_code#1053], functions=[avg(cast(interest_rate#1072 as double))])\n",
      "   +- HashAggregate(keys=[county_code#1053], functions=[partial_avg(cast(interest_rate#1072 as double))])\n",
      "      +- FileScan parquet spark_catalog.default.loans[county_code#1053,interest_rate#1072] Batched: true, Bucketed: true, DataFilters: [], Format: Parquet, Location: InMemoryFileIndex(1 paths)[hdfs://nn:9000/user/hive/warehouse/loans], PartitionFilters: [], PushedFilters: [], ReadSchema: struct<county_code:string,interest_rate:string>, SelectedBucketsCount: 8 out of 8\n",
      "\n",
      "\n",
      "== Physical Plan ==\n",
      "AdaptiveSparkPlan isFinalPlan=false\n",
      "+- HashAggregate(keys=[lei#1050], functions=[avg(cast(interest_rate#1072 as double))])\n",
      "   +- Exchange hashpartitioning(lei#1050, 200), ENSURE_REQUIREMENTS, [plan_id=1000]\n",
      "      +- HashAggregate(keys=[lei#1050], functions=[partial_avg(cast(interest_rate#1072 as double))])\n",
      "         +- FileScan parquet spark_catalog.default.loans[lei#1050,interest_rate#1072] Batched: true, Bucketed: false (bucket column(s) not read), DataFilters: [], Format: Parquet, Location: InMemoryFileIndex(1 paths)[hdfs://nn:9000/user/hive/warehouse/loans], PartitionFilters: [], PushedFilters: [], ReadSchema: struct<lei:string,interest_rate:string>\n",
      "\n",
      "\n"
     ]
    }
   ],
   "source": [
    "#q8\n",
    "# when computing a MEAN aggregate per group of loans, under what situation (when) do we require network I/O between the partial_mean and mean operations?\n",
    "\n",
    "result1_df = spark.sql(\"\"\"\n",
    "    SELECT county_code, AVG(interest_rate) AS avg_interest_rate\n",
    "    FROM loans\n",
    "    GROUP BY county_code\n",
    "\"\"\")\n",
    "\n",
    "result2_df = spark.sql(\"\"\"\n",
    "    SELECT lei, AVG(interest_rate) AS avg_interest_rate\n",
    "    FROM loans\n",
    "    GROUP BY lei\n",
    "\"\"\")\n",
    "\n",
    "result1_df.explain()\n",
    "result2_df.explain()\n",
    "\n",
    "# For our query that groups by lei we get this extra network transfer:\n",
    "# +- Exchange hashpartitioning(lei#1961, 200), ENSURE_REQUIREMENTS, [plan_id=1851]\n",
    "# I think it might have something to do with bucket partiion use during this network transfer"
   ]
  },
  {
   "cell_type": "code",
   "execution_count": null,
   "id": "fd8dbb76-ec80-4fac-928f-a2b4786225e5",
   "metadata": {},
   "outputs": [],
   "source": []
  },
  {
   "cell_type": "code",
   "execution_count": 12,
   "id": "89e5f0cc-36d0-45ad-9576-61bf05ec4e00",
   "metadata": {},
   "outputs": [
    {
     "name": "stderr",
     "output_type": "stream",
     "text": [
      "24/11/08 21:30:59 WARN DAGScheduler: Broadcasting large task binary with size 1061.0 KiB\n",
      "24/11/08 21:31:01 WARN DAGScheduler: Broadcasting large task binary with size 1353.4 KiB\n",
      "24/11/08 21:31:03 WARN DAGScheduler: Broadcasting large task binary with size 1674.2 KiB\n",
      "24/11/08 21:31:05 WARN DAGScheduler: Broadcasting large task binary with size 2027.9 KiB\n",
      "24/11/08 21:31:08 WARN DAGScheduler: Broadcasting large task binary with size 2.3 MiB\n",
      "                                                                                \r"
     ]
    },
    {
     "data": {
      "text/plain": [
       "{'depth=1': 0.8809425750509244,\n",
       " 'depth=5': 0.8929195560947918,\n",
       " 'depth=10': 0.8954796914480349,\n",
       " 'depth=15': 0.8948674851679115,\n",
       " 'depth=20': 0.893943610236089}"
      ]
     },
     "execution_count": 12,
     "metadata": {},
     "output_type": "execute_result"
    }
   ],
   "source": [
    "#q9\n",
    "# setting up__________\n",
    "from pyspark.sql.functions import when, col\n",
    "\n",
    "\n",
    "# Cast the approval, income and interest_rate columns to double type\n",
    "# and fill missing values of all features and label columns by 0.0.\n",
    "df = spark.sql(\"\"\"\n",
    "SELECT l.loan_amount, CAST(l.income AS DOUBLE) AS income, CAST(l.interest_rate AS DOUBLE) AS interest_rate,\n",
    "CASE WHEN a.action_taken = 'Loan originated' THEN 1.0 ELSE 0.0 END AS approval\n",
    "FROM loans l\n",
    "JOIN action_taken a ON l.action_taken = a.id\n",
    "\"\"\")\n",
    "\n",
    "df = df. fillna({'loan_amount': 0.0, 'income': 0.0, 'interest_rate': 0.0, 'approval': 0.00})\n",
    "# df.show()\n",
    "\n",
    "# ____________________\n",
    "\n",
    "train, test = df.randomSplit( [0.8, 0.2], seed=41)\n",
    "\n",
    "from pyspark.ml.feature import VectorAssembler\n",
    "from pyspark.ml.classification import DecisionTreeClassifier\n",
    "from pyspark.ml.evaluation import MulticlassClassificationEvaluator\n",
    "\n",
    "\n",
    "train.write.format(\"parquet\").mode(\"overwrite\").save(\"hdfs://nn:9000/train.parquet\")\n",
    "test.write.format(\"parquet\").mode(\"overwrite\").save(\"hdfs://nn:9000/test.parquet\")\n",
    "\n",
    "train = spark.read.format(\"parquet\").load(\"hdfs://nn:9000/train.parquet\")\n",
    "test = spark.read.format(\"parquet\").load(\"hdfs://nn:9000/test.parquet\")\n",
    "\n",
    "assembler = VectorAssembler(inputCols=[\"loan_amount\", \"income\", \"interest_rate\"], outputCol=\"features\")\n",
    "\n",
    "train = assembler.transform(train)\n",
    "test = assembler.transform(test)\n",
    "\n",
    "# note structure\n",
    "results = {}\n",
    "for depth in [1, 5, 10, 15, 20]:\n",
    "    dt = DecisionTreeClassifier(labelCol=\"approval\", featuresCol=\"features\", maxDepth=depth, seed=41)\n",
    "    model = dt.fit(train)\n",
    "    predictions = model.transform(test)\n",
    "    evaluator = MulticlassClassificationEvaluator(labelCol=\"approval\", predictionCol=\"prediction\", metricName=\"accuracy\")\n",
    "    accuracy = evaluator.evaluate(predictions)\n",
    "    \n",
    "    results [f'depth={depth}'] = accuracy\n",
    "\n",
    "\n",
    "\n",
    "results"
   ]
  },
  {
   "cell_type": "code",
   "execution_count": 13,
   "id": "9db3e3a6-71ef-4e3b-b067-cf305368e4a6",
   "metadata": {},
   "outputs": [],
   "source": [
    "#q10\n",
    "# It starts with increase in accuracy but hits a cap. It might have something to do with the type or amount of data provided¶"
   ]
  },
  {
   "cell_type": "code",
   "execution_count": null,
   "id": "a874408b-e640-4f20-a659-a16edf16d502",
   "metadata": {},
   "outputs": [],
   "source": []
  }
 ],
 "metadata": {
  "kernelspec": {
   "display_name": "Python 3 (ipykernel)",
   "language": "python",
   "name": "python3"
  },
  "language_info": {
   "codemirror_mode": {
    "name": "ipython",
    "version": 3
   },
   "file_extension": ".py",
   "mimetype": "text/x-python",
   "name": "python",
   "nbconvert_exporter": "python",
   "pygments_lexer": "ipython3",
   "version": "3.10.12"
  }
 },
 "nbformat": 4,
 "nbformat_minor": 5
}
